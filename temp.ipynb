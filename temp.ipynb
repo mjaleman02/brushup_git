{
 "cells": [
  {
   "cell_type": "code",
   "execution_count": 2,
   "metadata": {},
   "outputs": [
    {
     "name": "stdout",
     "output_type": "stream",
     "text": [
      "The temperature today is 59.0 degrees fahrenheit.\n"
     ]
    }
   ],
   "source": [
    "def c_to_f(celcius):\n",
    "    fahrenheit = celcius * 9/5 + 32\n",
    "    return(fahrenheit)\n",
    "\n",
    "cel = 15\n",
    "sent = \"The temperature today is \"\n",
    "print(sent + str(c_to_f(cel)) + \" degrees fahrenheit.\")"
   ]
  }
 ],
 "metadata": {
  "kernelspec": {
   "display_name": "Python 3",
   "language": "python",
   "name": "python3"
  },
  "language_info": {
   "codemirror_mode": {
    "name": "ipython",
    "version": 3
   },
   "file_extension": ".py",
   "mimetype": "text/x-python",
   "name": "python",
   "nbconvert_exporter": "python",
   "pygments_lexer": "ipython3",
   "version": "3.9.6"
  }
 },
 "nbformat": 4,
 "nbformat_minor": 2
}
